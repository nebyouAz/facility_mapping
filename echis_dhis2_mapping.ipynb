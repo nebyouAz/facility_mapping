{
 "cells": [
  {
   "cell_type": "markdown",
   "metadata": {},
   "source": [
    "Import libraries"
   ]
  },
  {
   "cell_type": "code",
   "execution_count": null,
   "metadata": {},
   "outputs": [],
   "source": [
    "import pandas as pd\n",
    "import numpy as np\n",
    "import recordlinkage"
   ]
  },
  {
   "cell_type": "markdown",
   "metadata": {},
   "source": [
    "Specify path directories"
   ]
  },
  {
   "cell_type": "code",
   "execution_count": null,
   "metadata": {},
   "outputs": [],
   "source": [
    "# Specify root folder\n",
    "root_folder = r'C:\\Users\\habze\\Nebyou\\Development\\facility_mapping'\n",
    "# root_folder = '/home/pyn/facility_mapping'\n",
    "# Combined Excel file\n",
    "#excel_file_path = root_folder + r'\\Data\\20230213-EPHI-MFR-eCHIS-Reconciliation.xlsx'\n",
    "#excel_file_path = root_folder + '/Data/20230213-EPHI-MFR-eCHIS-Reconciliation.xlsx'\n",
    "\n",
    "new_excel_file_path = root_folder + r'\\Data\\master_file_new.xlsx'\n",
    "# Zone file\n",
    "zone_mappings_file_path = root_folder + r'\\Output\\zone_mappings.xlsx'\n",
    "#zone_mappings_file_path = root_folder + '/Output/zone_mappings.xlsx'\n",
    "# Woreda file\n",
    "woreda_mappings_file_path = root_folder + r'\\Output\\woreda_mappings.xlsx'\n",
    "#woreda_mappings_file_path = root_folder + '/Output/woreda_mappings.xlsx'\n",
    "# HP mapping pathmmmm\n",
    "hp_mappings_file_path = root_folder + r'\\Output\\hp_final_mappings.xlsx'\n",
    "#hp_mappings_file_path = root_folder + '/Output/hp_final_mappings.xlsx'\n",
    "\n",
    "hc_mappings_file_path = root_folder + '\\Output\\hc_final_mappings.xlsx'"
   ]
  },
  {
   "attachments": {},
   "cell_type": "markdown",
   "metadata": {},
   "source": [
    "Read in data and rename columns where necessary"
   ]
  },
  {
   "cell_type": "code",
   "execution_count": null,
   "metadata": {},
   "outputs": [],
   "source": [
    "#df_eCHIS_combined = pd.read_excel(excel_file_path, sheet_name='echis_health_post_combined')\n",
    "#df_eCHIS_combined = df_eCHIS_combined.add_suffix('_echis')\n",
    "\n",
    "\n",
    "df_new_eCHIS_combined = pd.read_excel(new_excel_file_path, sheet_name='echis_master')\n",
    "df_new_eCHIS_combined = df_new_eCHIS_combined.add_suffix('_echis')\n",
    "\n",
    "df_dhis2 = pd.read_excel(new_excel_file_path, sheet_name='dhis2_master')\n",
    "df_dhis2.rename(columns={'Region':'region_name_dhis2', 'Zone':'zone_name_dhis2', 'Woreda':'woreda_name_dhis2', 'PHCU':'hc_name_dhis2', 'Facility Name':'facility_name_dhis2'}, inplace=True)\n",
    "\n",
    "#df_mfr = pd.read_excel(new_excel_file_path, sheet_name='mfr')\n",
    "#df_mfr.rename(columns={'region':'region_name_mfr', 'zone':'zone_name_mfr', 'woreda':'woreda_name_mfr', 'name':'facility_name_mfr'}, inplace=True)\n",
    "\n",
    "print('# of records in DHIS2:\\t\\t', len(df_dhis2))\n",
    "#print('# of records in MFR:\\t\\t', len(df_mfr))\n",
    "print('# of records in mfr:\\t\\t', len(df_new_eCHIS_combined))\n"
   ]
  },
  {
   "cell_type": "markdown",
   "metadata": {},
   "source": [
    "Pre-Processing"
   ]
  },
  {
   "cell_type": "code",
   "execution_count": null,
   "metadata": {},
   "outputs": [],
   "source": [
    "#df_mfr_updated = df_mfr[(df_mfr['facility_type'].apply(lambda x : 'post' in x.lower().replace(' ', ''))) | (df_mfr['facility_name_mfr'].apply(lambda x : 'post' in x.lower().replace(' ', '')))]\n",
    "\n",
    "# Make adjustments for Dire Dawa\n",
    "df_new_eCHIS_combined['zone_name_echis'] = df_new_eCHIS_combined[['woreda_name_echis','zone_name_echis','region_name_echis']].apply(lambda x : x.woreda_name_echis if x.region_name_echis == 'Dire Dawa' else x.zone_name_echis, axis=1)\n",
    "#df_mfr_updated['woreda_name_mfr'] = df_mfr_updated[['region_name_mfr','zone_name_mfr','woreda_name_mfr']].apply(lambda x : x.zone_name_mfr if x.region_name_mfr == 'Dire Dawa City Administration' else x.woreda_name_mfr, axis=1)\n",
    "\n",
    "print('# of potential health posts in mfr', len(df_new_eCHIS_combined))"
   ]
  }
 ],
 "metadata": {
  "kernelspec": {
   "display_name": "facility_mapping",
   "language": "python",
   "name": "python3"
  },
  "language_info": {
   "codemirror_mode": {
    "name": "ipython",
    "version": 3
   },
   "file_extension": ".py",
   "mimetype": "text/x-python",
   "name": "python",
   "nbconvert_exporter": "python",
   "pygments_lexer": "ipython3",
   "version": "3.11.5"
  },
  "orig_nbformat": 4,
  "vscode": {
   "interpreter": {
    "hash": "e1f3241e30d2706c5b66311aa22039891fcdb27f0cae8dc9436da2122278e84d"
   }
  }
 },
 "nbformat": 4,
 "nbformat_minor": 2
}
