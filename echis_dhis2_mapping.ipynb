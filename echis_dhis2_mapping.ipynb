{
 "cells": [
  {
   "cell_type": "markdown",
   "metadata": {},
   "source": [
    "Import libraries"
   ]
  },
  {
   "cell_type": "code",
   "execution_count": null,
   "metadata": {},
   "outputs": [],
   "source": [
    "import pandas as pd\n",
    "import numpy as np\n",
    "import recordlinkage"
   ]
  },
  {
   "cell_type": "markdown",
   "metadata": {},
   "source": [
    "Specify path directories"
   ]
  },
  {
   "cell_type": "code",
   "execution_count": null,
   "metadata": {},
   "outputs": [],
   "source": [
    "# Specify root folder\n",
    "root_folder = r'\\Development\\facility_mapping_old'\n",
    "\n",
    "# Combined Excel file\n",
    "new_excel_file_path = root_folder + r'\\Data\\master_file_new.xlsx'\n",
    "\n",
    "# Zone file\n",
    "zone_mappings_file_path = root_folder + r'\\Output\\zone_mappings.xlsx'\n",
    "\n",
    "# Woreda file\n",
    "woreda_mappings_file_path = root_folder + r'\\Output\\woreda_mappings.xlsx'\n",
    "\n",
    "# HP mapping path\n",
    "hp_mappings_file_path = root_folder + r'\\Output\\hp_final_mappings.xlsx'\n",
    "\n",
    "# HP mapping path\n",
    "hc_mappings_file_path = root_folder + '\\Output\\hc_final_mappings.xlsx'"
   ]
  },
  {
   "attachments": {},
   "cell_type": "markdown",
   "metadata": {},
   "source": [
    "Read in data and rename columns where necessary"
   ]
  },
  {
   "cell_type": "code",
   "execution_count": null,
   "metadata": {},
   "outputs": [],
   "source": [
    "df_new_eCHIS_combined = pd.read_excel(new_excel_file_path, sheet_name='echis_master')\n",
    "df_new_eCHIS_combined = df_new_eCHIS_combined.add_suffix('_echis')\n",
    "\n",
    "df_dhis2 = pd.read_excel(new_excel_file_path, sheet_name='dhis2_master')\n",
    "df_dhis2.rename(columns={'Region':'region_name_dhis2', 'Zone':'zone_name_dhis2', 'Woreda':'woreda_name_dhis2', 'PHCU':'hc_name_dhis2', 'Facility Name':'facility_name_dhis2'}, inplace=True)\n",
    "\n",
    "print('# of records in DHIS2:\\t\\t', len(df_dhis2))\n",
    "\n",
    "print('# of records in mfr:\\t\\t', len(df_new_eCHIS_combined))\n"
   ]
  },
  {
   "cell_type": "markdown",
   "metadata": {},
   "source": [
    "Pre-Processing"
   ]
  },
  {
   "cell_type": "code",
   "execution_count": null,
   "metadata": {},
   "outputs": [],
   "source": [
    "# Make adjustments for Dire Dawa\n",
    "df_new_eCHIS_combined['zone_name_echis'] = df_new_eCHIS_combined[['woreda_name_echis','zone_name_echis','region_name_echis']].apply(lambda x : x.woreda_name_echis if x.region_name_echis == 'Dire Dawa' else x.zone_name_echis, axis=1)\n",
    "\n",
    "print('# of potential health posts in mfr', len(df_new_eCHIS_combined))"
   ]
  },
  {
   "cell_type": "markdown",
   "metadata": {},
   "source": [
    "Using recordlinkage to link dhis2 and echis regions"
   ]
  },
  {
   "cell_type": "code",
   "execution_count": null,
   "metadata": {},
   "outputs": [],
   "source": [
    "region_e = df_new_eCHIS_combined[['region_name_echis']].drop_duplicates().dropna().reset_index(drop=True)\n",
    "region_d = df_dhis2[['region_name_dhis2']].drop_duplicates().dropna().reset_index(drop=True)\n",
    "\n",
    "print(region_e)\n",
    "print(region_d)\n",
    "\n",
    "indexer = recordlinkage.Index()\n",
    "indexer.full()\n",
    "region_candidate_links = indexer.index(region_e, region_d)\n",
    "\n",
    "compare_cl = recordlinkage.Compare()\n",
    "compare_cl.string('region_name_echis', 'region_name_dhis2', method='jarowinkler', label='match_score')\n",
    "\n",
    "regions_linked = compare_cl.compute(region_candidate_links, region_e, region_d)\n",
    "regions_linked = regions_linked.reset_index()\n",
    "\n",
    "regions_linked = regions_linked.merge(region_e.reset_index().rename({'index':'level_0'},axis=1), how='left', on='level_0')\n",
    "\n",
    "regions_linked = regions_linked.merge(region_d.reset_index().rename({'index':'level_1'},axis=1), how='left', on='level_1')\n",
    "\n",
    "regions_linked['ranked'] = regions_linked.groupby('level_0')['match_score'].rank(ascending=False)\n",
    "\n",
    "regions_linked = regions_linked[regions_linked['ranked'] == 1]\n",
    "\n",
    "# Add the mapped regions to the eCHIS dataframe\n",
    "df_new_eCHIS_combined_with_mappings = df_new_eCHIS_combined.merge(regions_linked[['region_name_echis','region_name_dhis2']], how='left', left_on='region_name_echis', right_on='region_name_echis')\n",
    "\n",
    "df_new_eCHIS_combined_with_mappings"
   ]
  }
 ],
 "metadata": {
  "kernelspec": {
   "display_name": "facility_mapping",
   "language": "python",
   "name": "python3"
  },
  "language_info": {
   "codemirror_mode": {
    "name": "ipython",
    "version": 3
   },
   "file_extension": ".py",
   "mimetype": "text/x-python",
   "name": "python",
   "nbconvert_exporter": "python",
   "pygments_lexer": "ipython3",
   "version": "3.11.5"
  },
  "orig_nbformat": 4,
  "vscode": {
   "interpreter": {
    "hash": "e1f3241e30d2706c5b66311aa22039891fcdb27f0cae8dc9436da2122278e84d"
   }
  }
 },
 "nbformat": 4,
 "nbformat_minor": 2
}
