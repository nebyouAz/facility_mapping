{
 "cells": [
  {
   "cell_type": "markdown",
   "metadata": {},
   "source": [
    "Import libraries"
   ]
  },
  {
   "cell_type": "code",
   "execution_count": 1,
   "metadata": {},
   "outputs": [],
   "source": [
    "import pandas as pd\n",
    "import numpy as np\n",
    "import recordlinkage"
   ]
  },
  {
   "cell_type": "markdown",
   "metadata": {},
   "source": [
    "Specify path directories"
   ]
  },
  {
   "cell_type": "code",
   "execution_count": 2,
   "metadata": {},
   "outputs": [],
   "source": [
    "# Specify root folder\n",
    "root_folder = r'C:\\Users\\habze\\Nebyou\\Development\\facility_mapping_old'\n",
    "\n",
    "# Combined Excel file\n",
    "new_excel_file_path = root_folder + r'\\Data\\master_file_new.xlsx'\n",
    "\n",
    "# Zone file\n",
    "zone_mappings_file_path = root_folder + r'\\Output\\zone_mappings.xlsx'\n",
    "\n",
    "# Woreda file\n",
    "woreda_mappings_file_path = root_folder + r'\\Output\\woreda_mappings.xlsx'\n",
    "\n",
    "# HP mapping path\n",
    "hp_mappings_file_path = root_folder + r'\\Output\\hp_final_mappings.xlsx'\n",
    "\n",
    "# HP mapping path\n",
    "hc_mappings_file_path = root_folder + '\\Output\\hc_final_mappings.xlsx'"
   ]
  },
  {
   "attachments": {},
   "cell_type": "markdown",
   "metadata": {},
   "source": [
    "Read in data and rename columns where necessary"
   ]
  },
  {
   "cell_type": "code",
   "execution_count": 3,
   "metadata": {},
   "outputs": [
    {
     "name": "stdout",
     "output_type": "stream",
     "text": [
      "# of records in DHIS2:\t\t 18691\n",
      "# of records in mfr:\t\t 8255\n"
     ]
    }
   ],
   "source": [
    "df_new_eCHIS_combined = pd.read_excel(new_excel_file_path, sheet_name='echis_master')\n",
    "df_new_eCHIS_combined = df_new_eCHIS_combined.add_suffix('_echis')\n",
    "\n",
    "df_dhis2 = pd.read_excel(new_excel_file_path, sheet_name='dhis2_master')\n",
    "df_dhis2.rename(columns={'Region':'region_name_dhis2', 'Zone':'zone_name_dhis2', 'Woreda':'woreda_name_dhis2', 'PHCU':'hc_name_dhis2', 'Facility Name':'facility_name_dhis2'}, inplace=True)\n",
    "\n",
    "print('# of records in DHIS2:\\t\\t', len(df_dhis2))\n",
    "\n",
    "print('# of records in mfr:\\t\\t', len(df_new_eCHIS_combined))\n"
   ]
  },
  {
   "cell_type": "markdown",
   "metadata": {},
   "source": [
    "Pre-Processing"
   ]
  },
  {
   "cell_type": "code",
   "execution_count": 4,
   "metadata": {},
   "outputs": [
    {
     "name": "stdout",
     "output_type": "stream",
     "text": [
      "# of potential health posts in mfr 8255\n"
     ]
    }
   ],
   "source": [
    "# Make adjustments for Dire Dawa\n",
    "df_new_eCHIS_combined['zone_name_echis'] = df_new_eCHIS_combined[['woreda_name_echis','zone_name_echis','region_name_echis']].apply(lambda x : x.woreda_name_echis if x.region_name_echis == 'Dire Dawa' else x.zone_name_echis, axis=1)\n",
    "\n",
    "print('# of potential health posts in mfr', len(df_new_eCHIS_combined))"
   ]
  },
  {
   "cell_type": "markdown",
   "metadata": {},
   "source": [
    "Using recordlinkage to link dhis2 and echis regions"
   ]
  },
  {
   "cell_type": "code",
   "execution_count": 5,
   "metadata": {},
   "outputs": [
    {
     "name": "stdout",
     "output_type": "stream",
     "text": [
      "   region_name_echis\n",
      "0             Oromia\n",
      "1             Amhara\n",
      "2               SNNP\n",
      "3               SWEP\n",
      "4             Somali\n",
      "5               Afar\n",
      "6          Dire Dawa\n",
      "7           Gambella\n",
      "8             Harari\n",
      "9             Tigray\n",
      "10   Benshangul Gumz\n",
      "11            Sidama\n",
      "    region_name_dhis2\n",
      "0             Oromiya\n",
      "1              Amhara\n",
      "2                SNNP\n",
      "3              Somali\n",
      "4                 SWE\n",
      "5              Tigray\n",
      "6   Benishangul Gumuz\n",
      "7                Afar\n",
      "8            Gambella\n",
      "9              Sidama\n",
      "10             Harari\n",
      "11          Dire Dawa\n",
      "WARNING:recordlinkage:indexing - performance warning - A full index can result in large number of record pairs.\n"
     ]
    },
    {
     "data": {
      "text/html": [
       "<div>\n",
       "<style scoped>\n",
       "    .dataframe tbody tr th:only-of-type {\n",
       "        vertical-align: middle;\n",
       "    }\n",
       "\n",
       "    .dataframe tbody tr th {\n",
       "        vertical-align: top;\n",
       "    }\n",
       "\n",
       "    .dataframe thead th {\n",
       "        text-align: right;\n",
       "    }\n",
       "</style>\n",
       "<table border=\"1\" class=\"dataframe\">\n",
       "  <thead>\n",
       "    <tr style=\"text-align: right;\">\n",
       "      <th></th>\n",
       "      <th>hp_location_id_echis</th>\n",
       "      <th>region_name_echis</th>\n",
       "      <th>zone_name_echis</th>\n",
       "      <th>woreda_name_echis</th>\n",
       "      <th>hc_name_echis</th>\n",
       "      <th>hp_name_echis</th>\n",
       "      <th>region_name_dhis2</th>\n",
       "    </tr>\n",
       "  </thead>\n",
       "  <tbody>\n",
       "    <tr>\n",
       "      <th>0</th>\n",
       "      <td>72ac8938f9b94046a53d5f32ac3a20ed</td>\n",
       "      <td>Oromia</td>\n",
       "      <td>Guji</td>\n",
       "      <td>Adola rede</td>\n",
       "      <td>Chembe</td>\n",
       "      <td>Bechera</td>\n",
       "      <td>Oromiya</td>\n",
       "    </tr>\n",
       "    <tr>\n",
       "      <th>1</th>\n",
       "      <td>7915c5a64d65457db6da5fa743dc151f</td>\n",
       "      <td>Oromia</td>\n",
       "      <td>Guji</td>\n",
       "      <td>Adola rede</td>\n",
       "      <td>Chembe</td>\n",
       "      <td>Chanbe</td>\n",
       "      <td>Oromiya</td>\n",
       "    </tr>\n",
       "    <tr>\n",
       "      <th>2</th>\n",
       "      <td>7b7fe604c40d41ccae77c6392c7fc3ab</td>\n",
       "      <td>Oromia</td>\n",
       "      <td>Guji</td>\n",
       "      <td>Adola rede</td>\n",
       "      <td>Chembe</td>\n",
       "      <td>Kola</td>\n",
       "      <td>Oromiya</td>\n",
       "    </tr>\n",
       "    <tr>\n",
       "      <th>3</th>\n",
       "      <td>b3310b4b562148218bd64f1ef9ffdc4f</td>\n",
       "      <td>Oromia</td>\n",
       "      <td>Guji</td>\n",
       "      <td>Adola rede</td>\n",
       "      <td>Chembe</td>\n",
       "      <td>Michicha</td>\n",
       "      <td>Oromiya</td>\n",
       "    </tr>\n",
       "    <tr>\n",
       "      <th>4</th>\n",
       "      <td>d4f126b7f7f244e8a86d566125e2a63f</td>\n",
       "      <td>Oromia</td>\n",
       "      <td>Guji</td>\n",
       "      <td>Adola rede</td>\n",
       "      <td>Dhedale Chena</td>\n",
       "      <td>Dedela Chena</td>\n",
       "      <td>Oromiya</td>\n",
       "    </tr>\n",
       "    <tr>\n",
       "      <th>...</th>\n",
       "      <td>...</td>\n",
       "      <td>...</td>\n",
       "      <td>...</td>\n",
       "      <td>...</td>\n",
       "      <td>...</td>\n",
       "      <td>...</td>\n",
       "      <td>...</td>\n",
       "    </tr>\n",
       "    <tr>\n",
       "      <th>8250</th>\n",
       "      <td>8b31853419014ebe8b9a0bcec45bfaed</td>\n",
       "      <td>Oromia</td>\n",
       "      <td>Jimma</td>\n",
       "      <td>Shabe Sombo</td>\n",
       "      <td>Shabe</td>\n",
       "      <td>Yanga Dogama Health Post</td>\n",
       "      <td>Oromiya</td>\n",
       "    </tr>\n",
       "    <tr>\n",
       "      <th>8251</th>\n",
       "      <td>83e46dbd4d984ab799824e9579075b2c</td>\n",
       "      <td>Oromia</td>\n",
       "      <td>Jimma</td>\n",
       "      <td>Shabe Sombo</td>\n",
       "      <td>Sombo</td>\n",
       "      <td>Atro Gefere Health Post</td>\n",
       "      <td>Oromiya</td>\n",
       "    </tr>\n",
       "    <tr>\n",
       "      <th>8252</th>\n",
       "      <td>51ce2d0383784e34912cca4d4ae69af7</td>\n",
       "      <td>Oromia</td>\n",
       "      <td>Jimma</td>\n",
       "      <td>Shabe Sombo</td>\n",
       "      <td>Sombo</td>\n",
       "      <td>Dema Gemechu Health Post</td>\n",
       "      <td>Oromiya</td>\n",
       "    </tr>\n",
       "    <tr>\n",
       "      <th>8253</th>\n",
       "      <td>eff135bde47846cba024c57b2ff3e2be</td>\n",
       "      <td>Oromia</td>\n",
       "      <td>Jimma</td>\n",
       "      <td>Shabe Sombo</td>\n",
       "      <td>Sombo</td>\n",
       "      <td>Mirgano Beso Health Post</td>\n",
       "      <td>Oromiya</td>\n",
       "    </tr>\n",
       "    <tr>\n",
       "      <th>8254</th>\n",
       "      <td>a5aa9818f6934cd3b6aa006a34c98ccf</td>\n",
       "      <td>Oromia</td>\n",
       "      <td>Jimma</td>\n",
       "      <td>Shabe Sombo</td>\n",
       "      <td>Sombo</td>\n",
       "      <td>Sombo Deru Health Post</td>\n",
       "      <td>Oromiya</td>\n",
       "    </tr>\n",
       "  </tbody>\n",
       "</table>\n",
       "<p>8255 rows × 7 columns</p>\n",
       "</div>"
      ],
      "text/plain": [
       "                  hp_location_id_echis region_name_echis zone_name_echis  \\\n",
       "0     72ac8938f9b94046a53d5f32ac3a20ed            Oromia            Guji   \n",
       "1     7915c5a64d65457db6da5fa743dc151f            Oromia            Guji   \n",
       "2     7b7fe604c40d41ccae77c6392c7fc3ab            Oromia            Guji   \n",
       "3     b3310b4b562148218bd64f1ef9ffdc4f            Oromia            Guji   \n",
       "4     d4f126b7f7f244e8a86d566125e2a63f            Oromia            Guji   \n",
       "...                                ...               ...             ...   \n",
       "8250  8b31853419014ebe8b9a0bcec45bfaed            Oromia           Jimma   \n",
       "8251  83e46dbd4d984ab799824e9579075b2c            Oromia           Jimma   \n",
       "8252  51ce2d0383784e34912cca4d4ae69af7            Oromia           Jimma   \n",
       "8253  eff135bde47846cba024c57b2ff3e2be            Oromia           Jimma   \n",
       "8254  a5aa9818f6934cd3b6aa006a34c98ccf            Oromia           Jimma   \n",
       "\n",
       "     woreda_name_echis  hc_name_echis             hp_name_echis  \\\n",
       "0           Adola rede         Chembe                   Bechera   \n",
       "1           Adola rede         Chembe                    Chanbe   \n",
       "2           Adola rede         Chembe                      Kola   \n",
       "3           Adola rede         Chembe                  Michicha   \n",
       "4           Adola rede  Dhedale Chena              Dedela Chena   \n",
       "...                ...            ...                       ...   \n",
       "8250       Shabe Sombo          Shabe  Yanga Dogama Health Post   \n",
       "8251       Shabe Sombo          Sombo   Atro Gefere Health Post   \n",
       "8252       Shabe Sombo          Sombo  Dema Gemechu Health Post   \n",
       "8253       Shabe Sombo          Sombo  Mirgano Beso Health Post   \n",
       "8254       Shabe Sombo          Sombo    Sombo Deru Health Post   \n",
       "\n",
       "     region_name_dhis2  \n",
       "0              Oromiya  \n",
       "1              Oromiya  \n",
       "2              Oromiya  \n",
       "3              Oromiya  \n",
       "4              Oromiya  \n",
       "...                ...  \n",
       "8250           Oromiya  \n",
       "8251           Oromiya  \n",
       "8252           Oromiya  \n",
       "8253           Oromiya  \n",
       "8254           Oromiya  \n",
       "\n",
       "[8255 rows x 7 columns]"
      ]
     },
     "execution_count": 5,
     "metadata": {},
     "output_type": "execute_result"
    }
   ],
   "source": [
    "region_e = df_new_eCHIS_combined[['region_name_echis']].drop_duplicates().dropna().reset_index(drop=True)\n",
    "region_d = df_dhis2[['region_name_dhis2']].drop_duplicates().dropna().reset_index(drop=True)\n",
    "\n",
    "print(region_e)\n",
    "print(region_d)\n",
    "\n",
    "indexer = recordlinkage.Index()\n",
    "indexer.full()\n",
    "region_candidate_links = indexer.index(region_e, region_d)\n",
    "\n",
    "compare_cl = recordlinkage.Compare()\n",
    "compare_cl.string('region_name_echis', 'region_name_dhis2', method='jarowinkler', label='match_score')\n",
    "\n",
    "regions_linked = compare_cl.compute(region_candidate_links, region_e, region_d)\n",
    "regions_linked = regions_linked.reset_index()\n",
    "\n",
    "regions_linked = regions_linked.merge(region_e.reset_index().rename({'index':'level_0'},axis=1), how='left', on='level_0')\n",
    "\n",
    "regions_linked = regions_linked.merge(region_d.reset_index().rename({'index':'level_1'},axis=1), how='left', on='level_1')\n",
    "\n",
    "regions_linked['ranked'] = regions_linked.groupby('level_0')['match_score'].rank(ascending=False)\n",
    "\n",
    "regions_linked = regions_linked[regions_linked['ranked'] == 1]\n",
    "\n",
    "# Add the mapped regions to the eCHIS dataframe\n",
    "df_new_eCHIS_combined_with_mappings = df_new_eCHIS_combined.merge(regions_linked[['region_name_echis','region_name_dhis2']], how='left', left_on='region_name_echis', right_on='region_name_echis')\n",
    "\n",
    "df_new_eCHIS_combined_with_mappings"
   ]
  }
 ],
 "metadata": {
  "kernelspec": {
   "display_name": "facility_mapping",
   "language": "python",
   "name": "python3"
  },
  "language_info": {
   "codemirror_mode": {
    "name": "ipython",
    "version": 3
   },
   "file_extension": ".py",
   "mimetype": "text/x-python",
   "name": "python",
   "nbconvert_exporter": "python",
   "pygments_lexer": "ipython3",
   "version": "3.11.5"
  },
  "orig_nbformat": 4,
  "vscode": {
   "interpreter": {
    "hash": "e1f3241e30d2706c5b66311aa22039891fcdb27f0cae8dc9436da2122278e84d"
   }
  }
 },
 "nbformat": 4,
 "nbformat_minor": 2
}
